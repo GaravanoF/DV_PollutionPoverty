{
  "cells": [
    {
      "cell_type": "markdown",
      "metadata": {
        "id": "GZM32KtY6a0y"
      },
      "source": [
        "# Imports"
      ]
    },
    {
      "cell_type": "code",
      "execution_count": 12,
      "metadata": {
        "id": "WUXU58HE6evC"
      },
      "outputs": [],
      "source": [
        "import numpy as np \n",
        "import pandas as pd\n",
        "import json \n",
        "\n",
        "import altair as alt\n",
        "from altair import expr, datum\n",
        "\n",
        "import plotly.express as px"
      ]
    },
    {
      "cell_type": "markdown",
      "metadata": {
        "id": "cJNuozFi6YgI"
      },
      "source": [
        "# Data Reading"
      ]
    },
    {
      "cell_type": "code",
      "execution_count": 3,
      "metadata": {},
      "outputs": [
        {
          "data": {
            "text/plain": [
              "Country                                             object\n",
              "Quality Score                                       object\n",
              "SDGi                                               float64\n",
              "Life Expectancy                                    float64\n",
              "HDI                                                float64\n",
              "Per Capita GDP                                      object\n",
              "Region                                              object\n",
              "Income Group                                        object\n",
              "Population (millions)                               object\n",
              "Cropland Footprint_p                               float64\n",
              "Grazing Footprint_p                                float64\n",
              "Forest Product Footprint_p                         float64\n",
              "Fish Footprint_p                                   float64\n",
              "Built up land_p                                    float64\n",
              "Carbon Footprint_p                                 float64\n",
              "Total Ecological Footprint (Production)            float64\n",
              "Cropland Footprint_c                               float64\n",
              "Grazing Footprint_c                                float64\n",
              "Forest Product Footprint_c                         float64\n",
              "Fish Footprint_c                                   float64\n",
              "Built up land_c                                    float64\n",
              "Carbon Footprint_c                                 float64\n",
              "Total Ecological Footprint (Consumption)           float64\n",
              "Cropland_b                                         float64\n",
              "Grazing land_b                                     float64\n",
              "Forest land_b                                      float64\n",
              "Fishing ground_b                                   float64\n",
              "Built up land_b                                    float64\n",
              "Total biocapacity                                  float64\n",
              "Ecological (Deficit) or Reserve                     object\n",
              "Number of Earths required                          float64\n",
              "Number of Countries required                       float64\n",
              "actual \\nCountry Overshoot Day \\n2018       datetime64[ns]\n",
              "ISO_num                                            float64\n",
              "ISO_cod                                             object\n",
              "Country_MPI                                        float64\n",
              "mpi_urban                                          float64\n",
              "nalpoverty_percentage_urban                        float64\n",
              "Avg_weighted_deprivations_urban                    float64\n",
              "vulnerable_urban_percentage                        float64\n",
              "severe_poverty_urban                               float64\n",
              "mpi_rural                                          float64\n",
              "nalpoverty_percentage_rural                        float64\n",
              "Avg_weighted_deprivations_rural                    float64\n",
              "vulnerable_rural_percentage                        float64\n",
              "severe_poverty_rural                               float64\n",
              "urban_pop_share                                    float64\n",
              "urban_pop_thousands                                float64\n",
              "Thousands_mpi_poor_urban                           float64\n",
              "rural_pop_share                                    float64\n",
              "rural_pop_thousands                                float64\n",
              "Thousands_mpi_poor_rural                           float64\n",
              "num_ind                                            float64\n",
              "miss_ind                                            object\n",
              "Trade (USD) exp                                    float64\n",
              "Trade (USD) imp                                    float64\n",
              "dtype: object"
            ]
          },
          "execution_count": 3,
          "metadata": {},
          "output_type": "execute_result"
        }
      ],
      "source": [
        "data=pd.read_excel('data.xlsx')\n",
        "# Filter out all rows with no mpi index inside\n",
        "data_with_mpi = data.dropna(subset=['Country_MPI'], how='all')\n",
        "# Demonstrate all columns & types\n",
        "data.dtypes"
      ]
    },
    {
      "attachments": {},
      "cell_type": "markdown",
      "metadata": {
        "id": "sbN1xdNMHonK"
      },
      "source": [
        "# Visualization\n",
        "### Overview on World Pollution Situation"
      ]
    },
    {
      "cell_type": "code",
      "execution_count": 15,
      "metadata": {},
      "outputs": [
        {
          "data": {
            "application/vnd.plotly.v1+json": {
              "config": {
                "plotlyServerURL": "https://plot.ly"
              },
              "data": [
                {
                  "coloraxis": "coloraxis",
                  "geo": "geo",
                  "hovertemplate": "Country=%{location}<br>SCALE=%{z}<extra></extra>",
                  "locationmode": "country names",
                  "locations": [
                    "Gambia",
                    "Sao Tome and Principe",
                    "Algeria",
                    "Burundi",
                    "Antigua and Barbuda",
                    "Argentina",
                    "Belize",
                    "Australia",
                    "Austria",
                    "Montenegro",
                    "Bahamas",
                    "Bahrain",
                    "Bangladesh",
                    "Barbados",
                    "Belarus",
                    "Belgium",
                    "Afghanistan",
                    "Benin",
                    "Bhutan",
                    "Guyana",
                    "Suriname",
                    "Botswana",
                    "Kyrgyzstan",
                    "Brunei Darussalam",
                    "Bulgaria",
                    "Armenia",
                    "Albania",
                    "Cabo Verde",
                    "Cambodia",
                    "Cameroon",
                    "Canada",
                    "Central African Republic",
                    "Chad",
                    "Chile",
                    "Uganda",
                    "Madagascar",
                    "Comoros",
                    "Congo",
                    "Costa Rica",
                    "CotedeIvoire",
                    "Croatia",
                    "Cuba",
                    "Cyprus",
                    "Czech Republic",
                    "Democratic Republic of Congo",
                    "Denmark",
                    "Djibouti",
                    "Dominica",
                    "Dominican Republic",
                    "Burkina Faso",
                    "Senegal",
                    "Zimbabwe",
                    "Equatorial Guinea",
                    "Eritrea",
                    "Estonia",
                    "Eswatini",
                    "Ethiopia",
                    "Fiji",
                    "Finland",
                    "France",
                    "French Guiana",
                    "French Polynesia",
                    "Gabon",
                    "Nicaragua",
                    "Georgia",
                    "Germany",
                    "Mozambique",
                    "Greece",
                    "Grenada",
                    "Guadeloupe",
                    "Guatemala",
                    "Guinea",
                    "Guinea-Bissau",
                    "El Salvador",
                    "Haiti",
                    "Honduras",
                    "Hungary",
                    "Kenya",
                    "Mongolia",
                    "Iran",
                    "Iraq",
                    "Ireland",
                    "Israel",
                    "Italy",
                    "Jamaica",
                    "Japan",
                    "Bosnia Herzegovina",
                    "Jordan",
                    "Paraguay",
                    "Kuwait",
                    "Zambia",
                    "Laos",
                    "Latvia",
                    "Lebanon",
                    "Lesotho",
                    "Liberia",
                    "Libya",
                    "Lithuania",
                    "Luxembourg",
                    "Bolivia",
                    "Malawi",
                    "Malaysia",
                    "Mali",
                    "Malta",
                    "Martinique",
                    "Mauritania",
                    "Mauritius",
                    "Namibia",
                    "Uzbekistan",
                    "Myanmar",
                    "Ghana",
                    "Serbia",
                    "Azerbaijan",
                    "Ecuador",
                    "Nepal",
                    "Netherlands",
                    "New Zealand",
                    "Pakistan",
                    "Niger",
                    "Morocco",
                    "North Korea",
                    "Norway",
                    "Oman",
                    "Egypt",
                    "Panama",
                    "Papua New Guinea",
                    "Angola",
                    "Colombia",
                    "Ukraine",
                    "Poland",
                    "Portugal",
                    "Qatar",
                    "Republic of Moldova",
                    "Republic of North Macedonia",
                    "Réunion",
                    "Romania",
                    "Russian Federation",
                    "Rwanda",
                    "Saint Lucia",
                    "Samoa",
                    "Peru",
                    "Saudi Arabia",
                    "Kazakhstan",
                    "Nigeria",
                    "Sierra Leone",
                    "Singapore",
                    "Slovakia",
                    "Slovenia",
                    "Solomon Isds",
                    "Somalia",
                    "Philippines",
                    "South Korea",
                    "South Sudan",
                    "Spain",
                    "Sri Lanka",
                    "State of Palestine",
                    "Sudan",
                    "South Africa",
                    "Sweden",
                    "Switzerland",
                    "Syria",
                    "Tajikistan",
                    "Indonesia",
                    "Timor-Leste",
                    "Togo",
                    "Tonga",
                    "Trinidad and Tobago",
                    "Tunisia",
                    "Turkey",
                    "Turkmenistan",
                    "Brazil",
                    "Thailand",
                    "United Arab Emirates",
                    "United Kingdom",
                    "United Republic of Tanzania",
                    "Uruguay",
                    "USA",
                    "India",
                    "Vanuatu",
                    "Venezuela",
                    "Vietnam",
                    "Yemen",
                    "Mexico",
                    "China"
                  ],
                  "name": "",
                  "type": "choropleth",
                  "z": [
                    1,
                    1.3,
                    2.3,
                    0.8,
                    4.7,
                    3.3,
                    7.9,
                    7.1,
                    6.1,
                    4.2,
                    4.3,
                    8.2,
                    0.9,
                    4,
                    4.4,
                    6.9,
                    0.7,
                    1.6,
                    5.2,
                    3.4,
                    3.1,
                    2.4,
                    1.5,
                    5.4,
                    3.6,
                    1.9,
                    1.9,
                    1.8,
                    1.5,
                    1.2,
                    8.1,
                    1.2,
                    1.7,
                    4.3,
                    1.1,
                    1,
                    1.2,
                    1,
                    2.4,
                    1.4,
                    3.9,
                    1.8,
                    3.9,
                    5.7,
                    0.8,
                    6.7,
                    2.4,
                    2.5,
                    1.8,
                    1.3,
                    1.4,
                    1.2,
                    2,
                    0.8,
                    8,
                    2.5,
                    1,
                    2.7,
                    6.4,
                    4.4,
                    1.9,
                    4,
                    2,
                    1.4,
                    2.3,
                    4.7,
                    0.8,
                    4.1,
                    2.5,
                    3.6,
                    1.8,
                    1.8,
                    1.5,
                    2,
                    0.6,
                    1.6,
                    3.9,
                    1,
                    7.3,
                    3.3,
                    1.8,
                    5.3,
                    4.7,
                    4.3,
                    1.6,
                    4.6,
                    3.9,
                    1.8,
                    3.1,
                    7.9,
                    1.3,
                    1.8,
                    6.4,
                    3,
                    1.5,
                    1.2,
                    3.3,
                    6,
                    13,
                    3.1,
                    0.9,
                    4.3,
                    1.6,
                    5.5,
                    3.5,
                    2.5,
                    3.2,
                    2.5,
                    2,
                    1.7,
                    2,
                    3.1,
                    2.1,
                    1.7,
                    1.2,
                    5.7,
                    5.3,
                    0.8,
                    1.5,
                    1.8,
                    1.2,
                    5.7,
                    6.3,
                    1.8,
                    2.9,
                    1.7,
                    0.9,
                    1.9,
                    2.4,
                    4.8,
                    4.6,
                    14.3,
                    1.9,
                    3.1,
                    4.6,
                    3.6,
                    5.3,
                    0.8,
                    2.3,
                    2.7,
                    2.4,
                    5,
                    5,
                    1.1,
                    1.1,
                    5.9,
                    4.7,
                    5.4,
                    1.8,
                    1,
                    1.5,
                    6.3,
                    1.6,
                    4.4,
                    1.5,
                    1.1,
                    1.5,
                    3.8,
                    6.3,
                    4.3,
                    1.3,
                    1.1,
                    1.7,
                    0.6,
                    1,
                    2.9,
                    7.4,
                    2,
                    3.3,
                    4.9,
                    2.6,
                    2.4,
                    8.1,
                    4.2,
                    1.2,
                    1.3,
                    8.1,
                    1.2,
                    null,
                    2.4,
                    2.3,
                    0.5,
                    2.4,
                    3.8
                  ]
                }
              ],
              "layout": {
                "coloraxis": {
                  "colorbar": {
                    "title": {
                      "text": "SCALE"
                    }
                  },
                  "colorscale": [
                    [
                      0,
                      "rgb(255,255,255)"
                    ],
                    [
                      0.125,
                      "rgb(240,240,240)"
                    ],
                    [
                      0.25,
                      "rgb(217,217,217)"
                    ],
                    [
                      0.375,
                      "rgb(189,189,189)"
                    ],
                    [
                      0.5,
                      "rgb(150,150,150)"
                    ],
                    [
                      0.625,
                      "rgb(115,115,115)"
                    ],
                    [
                      0.75,
                      "rgb(82,82,82)"
                    ],
                    [
                      0.875,
                      "rgb(37,37,37)"
                    ],
                    [
                      1,
                      "rgb(0,0,0)"
                    ]
                  ]
                },
                "geo": {
                  "center": {},
                  "domain": {
                    "x": [
                      0,
                      1
                    ],
                    "y": [
                      0,
                      1
                    ]
                  },
                  "fitbounds": "locations",
                  "scope": "world",
                  "visible": false
                },
                "legend": {
                  "tracegroupgap": 0
                },
                "margin": {
                  "b": 2,
                  "l": 2,
                  "r": 2,
                  "t": 2
                },
                "template": {
                  "data": {
                    "bar": [
                      {
                        "error_x": {
                          "color": "#2a3f5f"
                        },
                        "error_y": {
                          "color": "#2a3f5f"
                        },
                        "marker": {
                          "line": {
                            "color": "#E5ECF6",
                            "width": 0.5
                          },
                          "pattern": {
                            "fillmode": "overlay",
                            "size": 10,
                            "solidity": 0.2
                          }
                        },
                        "type": "bar"
                      }
                    ],
                    "barpolar": [
                      {
                        "marker": {
                          "line": {
                            "color": "#E5ECF6",
                            "width": 0.5
                          },
                          "pattern": {
                            "fillmode": "overlay",
                            "size": 10,
                            "solidity": 0.2
                          }
                        },
                        "type": "barpolar"
                      }
                    ],
                    "carpet": [
                      {
                        "aaxis": {
                          "endlinecolor": "#2a3f5f",
                          "gridcolor": "white",
                          "linecolor": "white",
                          "minorgridcolor": "white",
                          "startlinecolor": "#2a3f5f"
                        },
                        "baxis": {
                          "endlinecolor": "#2a3f5f",
                          "gridcolor": "white",
                          "linecolor": "white",
                          "minorgridcolor": "white",
                          "startlinecolor": "#2a3f5f"
                        },
                        "type": "carpet"
                      }
                    ],
                    "choropleth": [
                      {
                        "colorbar": {
                          "outlinewidth": 0,
                          "ticks": ""
                        },
                        "type": "choropleth"
                      }
                    ],
                    "contour": [
                      {
                        "colorbar": {
                          "outlinewidth": 0,
                          "ticks": ""
                        },
                        "colorscale": [
                          [
                            0,
                            "#0d0887"
                          ],
                          [
                            0.1111111111111111,
                            "#46039f"
                          ],
                          [
                            0.2222222222222222,
                            "#7201a8"
                          ],
                          [
                            0.3333333333333333,
                            "#9c179e"
                          ],
                          [
                            0.4444444444444444,
                            "#bd3786"
                          ],
                          [
                            0.5555555555555556,
                            "#d8576b"
                          ],
                          [
                            0.6666666666666666,
                            "#ed7953"
                          ],
                          [
                            0.7777777777777778,
                            "#fb9f3a"
                          ],
                          [
                            0.8888888888888888,
                            "#fdca26"
                          ],
                          [
                            1,
                            "#f0f921"
                          ]
                        ],
                        "type": "contour"
                      }
                    ],
                    "contourcarpet": [
                      {
                        "colorbar": {
                          "outlinewidth": 0,
                          "ticks": ""
                        },
                        "type": "contourcarpet"
                      }
                    ],
                    "heatmap": [
                      {
                        "colorbar": {
                          "outlinewidth": 0,
                          "ticks": ""
                        },
                        "colorscale": [
                          [
                            0,
                            "#0d0887"
                          ],
                          [
                            0.1111111111111111,
                            "#46039f"
                          ],
                          [
                            0.2222222222222222,
                            "#7201a8"
                          ],
                          [
                            0.3333333333333333,
                            "#9c179e"
                          ],
                          [
                            0.4444444444444444,
                            "#bd3786"
                          ],
                          [
                            0.5555555555555556,
                            "#d8576b"
                          ],
                          [
                            0.6666666666666666,
                            "#ed7953"
                          ],
                          [
                            0.7777777777777778,
                            "#fb9f3a"
                          ],
                          [
                            0.8888888888888888,
                            "#fdca26"
                          ],
                          [
                            1,
                            "#f0f921"
                          ]
                        ],
                        "type": "heatmap"
                      }
                    ],
                    "heatmapgl": [
                      {
                        "colorbar": {
                          "outlinewidth": 0,
                          "ticks": ""
                        },
                        "colorscale": [
                          [
                            0,
                            "#0d0887"
                          ],
                          [
                            0.1111111111111111,
                            "#46039f"
                          ],
                          [
                            0.2222222222222222,
                            "#7201a8"
                          ],
                          [
                            0.3333333333333333,
                            "#9c179e"
                          ],
                          [
                            0.4444444444444444,
                            "#bd3786"
                          ],
                          [
                            0.5555555555555556,
                            "#d8576b"
                          ],
                          [
                            0.6666666666666666,
                            "#ed7953"
                          ],
                          [
                            0.7777777777777778,
                            "#fb9f3a"
                          ],
                          [
                            0.8888888888888888,
                            "#fdca26"
                          ],
                          [
                            1,
                            "#f0f921"
                          ]
                        ],
                        "type": "heatmapgl"
                      }
                    ],
                    "histogram": [
                      {
                        "marker": {
                          "pattern": {
                            "fillmode": "overlay",
                            "size": 10,
                            "solidity": 0.2
                          }
                        },
                        "type": "histogram"
                      }
                    ],
                    "histogram2d": [
                      {
                        "colorbar": {
                          "outlinewidth": 0,
                          "ticks": ""
                        },
                        "colorscale": [
                          [
                            0,
                            "#0d0887"
                          ],
                          [
                            0.1111111111111111,
                            "#46039f"
                          ],
                          [
                            0.2222222222222222,
                            "#7201a8"
                          ],
                          [
                            0.3333333333333333,
                            "#9c179e"
                          ],
                          [
                            0.4444444444444444,
                            "#bd3786"
                          ],
                          [
                            0.5555555555555556,
                            "#d8576b"
                          ],
                          [
                            0.6666666666666666,
                            "#ed7953"
                          ],
                          [
                            0.7777777777777778,
                            "#fb9f3a"
                          ],
                          [
                            0.8888888888888888,
                            "#fdca26"
                          ],
                          [
                            1,
                            "#f0f921"
                          ]
                        ],
                        "type": "histogram2d"
                      }
                    ],
                    "histogram2dcontour": [
                      {
                        "colorbar": {
                          "outlinewidth": 0,
                          "ticks": ""
                        },
                        "colorscale": [
                          [
                            0,
                            "#0d0887"
                          ],
                          [
                            0.1111111111111111,
                            "#46039f"
                          ],
                          [
                            0.2222222222222222,
                            "#7201a8"
                          ],
                          [
                            0.3333333333333333,
                            "#9c179e"
                          ],
                          [
                            0.4444444444444444,
                            "#bd3786"
                          ],
                          [
                            0.5555555555555556,
                            "#d8576b"
                          ],
                          [
                            0.6666666666666666,
                            "#ed7953"
                          ],
                          [
                            0.7777777777777778,
                            "#fb9f3a"
                          ],
                          [
                            0.8888888888888888,
                            "#fdca26"
                          ],
                          [
                            1,
                            "#f0f921"
                          ]
                        ],
                        "type": "histogram2dcontour"
                      }
                    ],
                    "mesh3d": [
                      {
                        "colorbar": {
                          "outlinewidth": 0,
                          "ticks": ""
                        },
                        "type": "mesh3d"
                      }
                    ],
                    "parcoords": [
                      {
                        "line": {
                          "colorbar": {
                            "outlinewidth": 0,
                            "ticks": ""
                          }
                        },
                        "type": "parcoords"
                      }
                    ],
                    "pie": [
                      {
                        "automargin": true,
                        "type": "pie"
                      }
                    ],
                    "scatter": [
                      {
                        "marker": {
                          "colorbar": {
                            "outlinewidth": 0,
                            "ticks": ""
                          }
                        },
                        "type": "scatter"
                      }
                    ],
                    "scatter3d": [
                      {
                        "line": {
                          "colorbar": {
                            "outlinewidth": 0,
                            "ticks": ""
                          }
                        },
                        "marker": {
                          "colorbar": {
                            "outlinewidth": 0,
                            "ticks": ""
                          }
                        },
                        "type": "scatter3d"
                      }
                    ],
                    "scattercarpet": [
                      {
                        "marker": {
                          "colorbar": {
                            "outlinewidth": 0,
                            "ticks": ""
                          }
                        },
                        "type": "scattercarpet"
                      }
                    ],
                    "scattergeo": [
                      {
                        "marker": {
                          "colorbar": {
                            "outlinewidth": 0,
                            "ticks": ""
                          }
                        },
                        "type": "scattergeo"
                      }
                    ],
                    "scattergl": [
                      {
                        "marker": {
                          "colorbar": {
                            "outlinewidth": 0,
                            "ticks": ""
                          }
                        },
                        "type": "scattergl"
                      }
                    ],
                    "scattermapbox": [
                      {
                        "marker": {
                          "colorbar": {
                            "outlinewidth": 0,
                            "ticks": ""
                          }
                        },
                        "type": "scattermapbox"
                      }
                    ],
                    "scatterpolar": [
                      {
                        "marker": {
                          "colorbar": {
                            "outlinewidth": 0,
                            "ticks": ""
                          }
                        },
                        "type": "scatterpolar"
                      }
                    ],
                    "scatterpolargl": [
                      {
                        "marker": {
                          "colorbar": {
                            "outlinewidth": 0,
                            "ticks": ""
                          }
                        },
                        "type": "scatterpolargl"
                      }
                    ],
                    "scatterternary": [
                      {
                        "marker": {
                          "colorbar": {
                            "outlinewidth": 0,
                            "ticks": ""
                          }
                        },
                        "type": "scatterternary"
                      }
                    ],
                    "surface": [
                      {
                        "colorbar": {
                          "outlinewidth": 0,
                          "ticks": ""
                        },
                        "colorscale": [
                          [
                            0,
                            "#0d0887"
                          ],
                          [
                            0.1111111111111111,
                            "#46039f"
                          ],
                          [
                            0.2222222222222222,
                            "#7201a8"
                          ],
                          [
                            0.3333333333333333,
                            "#9c179e"
                          ],
                          [
                            0.4444444444444444,
                            "#bd3786"
                          ],
                          [
                            0.5555555555555556,
                            "#d8576b"
                          ],
                          [
                            0.6666666666666666,
                            "#ed7953"
                          ],
                          [
                            0.7777777777777778,
                            "#fb9f3a"
                          ],
                          [
                            0.8888888888888888,
                            "#fdca26"
                          ],
                          [
                            1,
                            "#f0f921"
                          ]
                        ],
                        "type": "surface"
                      }
                    ],
                    "table": [
                      {
                        "cells": {
                          "fill": {
                            "color": "#EBF0F8"
                          },
                          "line": {
                            "color": "white"
                          }
                        },
                        "header": {
                          "fill": {
                            "color": "#C8D4E3"
                          },
                          "line": {
                            "color": "white"
                          }
                        },
                        "type": "table"
                      }
                    ]
                  },
                  "layout": {
                    "annotationdefaults": {
                      "arrowcolor": "#2a3f5f",
                      "arrowhead": 0,
                      "arrowwidth": 1
                    },
                    "autotypenumbers": "strict",
                    "coloraxis": {
                      "colorbar": {
                        "outlinewidth": 0,
                        "ticks": ""
                      }
                    },
                    "colorscale": {
                      "diverging": [
                        [
                          0,
                          "#8e0152"
                        ],
                        [
                          0.1,
                          "#c51b7d"
                        ],
                        [
                          0.2,
                          "#de77ae"
                        ],
                        [
                          0.3,
                          "#f1b6da"
                        ],
                        [
                          0.4,
                          "#fde0ef"
                        ],
                        [
                          0.5,
                          "#f7f7f7"
                        ],
                        [
                          0.6,
                          "#e6f5d0"
                        ],
                        [
                          0.7,
                          "#b8e186"
                        ],
                        [
                          0.8,
                          "#7fbc41"
                        ],
                        [
                          0.9,
                          "#4d9221"
                        ],
                        [
                          1,
                          "#276419"
                        ]
                      ],
                      "sequential": [
                        [
                          0,
                          "#0d0887"
                        ],
                        [
                          0.1111111111111111,
                          "#46039f"
                        ],
                        [
                          0.2222222222222222,
                          "#7201a8"
                        ],
                        [
                          0.3333333333333333,
                          "#9c179e"
                        ],
                        [
                          0.4444444444444444,
                          "#bd3786"
                        ],
                        [
                          0.5555555555555556,
                          "#d8576b"
                        ],
                        [
                          0.6666666666666666,
                          "#ed7953"
                        ],
                        [
                          0.7777777777777778,
                          "#fb9f3a"
                        ],
                        [
                          0.8888888888888888,
                          "#fdca26"
                        ],
                        [
                          1,
                          "#f0f921"
                        ]
                      ],
                      "sequentialminus": [
                        [
                          0,
                          "#0d0887"
                        ],
                        [
                          0.1111111111111111,
                          "#46039f"
                        ],
                        [
                          0.2222222222222222,
                          "#7201a8"
                        ],
                        [
                          0.3333333333333333,
                          "#9c179e"
                        ],
                        [
                          0.4444444444444444,
                          "#bd3786"
                        ],
                        [
                          0.5555555555555556,
                          "#d8576b"
                        ],
                        [
                          0.6666666666666666,
                          "#ed7953"
                        ],
                        [
                          0.7777777777777778,
                          "#fb9f3a"
                        ],
                        [
                          0.8888888888888888,
                          "#fdca26"
                        ],
                        [
                          1,
                          "#f0f921"
                        ]
                      ]
                    },
                    "colorway": [
                      "#636efa",
                      "#EF553B",
                      "#00cc96",
                      "#ab63fa",
                      "#FFA15A",
                      "#19d3f3",
                      "#FF6692",
                      "#B6E880",
                      "#FF97FF",
                      "#FECB52"
                    ],
                    "font": {
                      "color": "#2a3f5f"
                    },
                    "geo": {
                      "bgcolor": "white",
                      "lakecolor": "white",
                      "landcolor": "#E5ECF6",
                      "showlakes": true,
                      "showland": true,
                      "subunitcolor": "white"
                    },
                    "hoverlabel": {
                      "align": "left"
                    },
                    "hovermode": "closest",
                    "mapbox": {
                      "style": "light"
                    },
                    "paper_bgcolor": "white",
                    "plot_bgcolor": "#E5ECF6",
                    "polar": {
                      "angularaxis": {
                        "gridcolor": "white",
                        "linecolor": "white",
                        "ticks": ""
                      },
                      "bgcolor": "#E5ECF6",
                      "radialaxis": {
                        "gridcolor": "white",
                        "linecolor": "white",
                        "ticks": ""
                      }
                    },
                    "scene": {
                      "xaxis": {
                        "backgroundcolor": "#E5ECF6",
                        "gridcolor": "white",
                        "gridwidth": 2,
                        "linecolor": "white",
                        "showbackground": true,
                        "ticks": "",
                        "zerolinecolor": "white"
                      },
                      "yaxis": {
                        "backgroundcolor": "#E5ECF6",
                        "gridcolor": "white",
                        "gridwidth": 2,
                        "linecolor": "white",
                        "showbackground": true,
                        "ticks": "",
                        "zerolinecolor": "white"
                      },
                      "zaxis": {
                        "backgroundcolor": "#E5ECF6",
                        "gridcolor": "white",
                        "gridwidth": 2,
                        "linecolor": "white",
                        "showbackground": true,
                        "ticks": "",
                        "zerolinecolor": "white"
                      }
                    },
                    "shapedefaults": {
                      "line": {
                        "color": "#2a3f5f"
                      }
                    },
                    "ternary": {
                      "aaxis": {
                        "gridcolor": "white",
                        "linecolor": "white",
                        "ticks": ""
                      },
                      "baxis": {
                        "gridcolor": "white",
                        "linecolor": "white",
                        "ticks": ""
                      },
                      "bgcolor": "#E5ECF6",
                      "caxis": {
                        "gridcolor": "white",
                        "linecolor": "white",
                        "ticks": ""
                      }
                    },
                    "title": {
                      "x": 0.05
                    },
                    "xaxis": {
                      "automargin": true,
                      "gridcolor": "white",
                      "linecolor": "white",
                      "ticks": "",
                      "title": {
                        "standoff": 15
                      },
                      "zerolinecolor": "white",
                      "zerolinewidth": 2
                    },
                    "yaxis": {
                      "automargin": true,
                      "gridcolor": "white",
                      "linecolor": "white",
                      "ticks": "",
                      "title": {
                        "standoff": 15
                      },
                      "zerolinecolor": "white",
                      "zerolinewidth": 2
                    }
                  }
                },
                "title": {
                  "text": "<br>Overview on World Total Ecological Footprint Consumption</a>"
                }
              }
            }
          },
          "metadata": {},
          "output_type": "display_data"
        }
      ],
      "source": [
        "# Generate choropleth map\n",
        "graph1 = px.choropleth(data, locations='Country', locationmode='country names', \n",
        "            color='Total Ecological Footprint (Consumption)', scope='world',\n",
        "            color_continuous_scale='Greys',\n",
        "            labels={'Total Ecological Footprint (Consumption)': 'SCALE'})\n",
        "\n",
        "graph1.update_geos(fitbounds=\"locations\", visible=False)\n",
        "\n",
        "graph1.update_layout(margin={\"r\":2,\"t\":2,\"l\":2,\"b\":2})\n",
        "\n",
        "graph1.update_layout(title_text='<br>''Overview on World Total Ecological Footprint Consumption</a>')\n",
        "\n",
        "# Get JSON specification\n",
        "graph1json = graph1.to_json('graph1.json')\n",
        "\n",
        "with open('graph1.json', 'w') as f:\n",
        "    json.dump(graph1json,f)\n",
        "\n",
        "# Show interactive plot\n",
        "graph1.show()"
      ]
    },
    {
      "cell_type": "markdown",
      "metadata": {},
      "source": [
        "### Relation between Poverty & Ecological Footprints by Region with Footprint Details of Chosen Region"
      ]
    },
    {
      "cell_type": "code",
      "execution_count": 6,
      "metadata": {},
      "outputs": [],
      "source": [
        "# Define a selection for the y-axis for scatter plot\n",
        "y_selection_scatter = alt.selection_single(\n",
        "            name=\"Choose_scatter\",\n",
        "            fields=[\"footprints\"],\n",
        "            init={\"footprints\": \"Total Ecological Footprint (Consumption)\"},\n",
        "            bind=alt.binding_select(options=['Total Ecological Footprint (Consumption)', 'Built up land_c', 'Carbon Footprint_c', \n",
        "            'Cropland Footprint_c','Fish Footprint_c', 'Forest Product Footprint_c', 'Grazing Footprint_c'])\n",
        "            )\n",
        "\n",
        "# Define a selection for the y-axis for line grah\n",
        "y_selection_line = alt.selection_single(\n",
        "            name=\"Choose_line\",\n",
        "            fields=[\"footprints\"],\n",
        "            init={\"footprints\": \"Total Ecological Footprint (Consumption)\"},\n",
        "            bind=alt.binding_select(options=['Total Ecological Footprint (Consumption)', 'Built up land_c', 'Carbon Footprint_c', \n",
        "            'Cropland Footprint_c','Fish Footprint_c', 'Forest Product Footprint_c', 'Grazing Footprint_c'])\n",
        "            )\n",
        "\n",
        "# Create the click to select specific region\n",
        "click = alt.selection_multi(encodings=['color'])\n",
        "\n",
        "# Create the scatter plot\n",
        "scatter_plot = alt.Chart(data_with_mpi).mark_circle().encode(\n",
        "    x=alt.X(\"Country_MPI:Q\", title=\"MPI Index\"),\n",
        "    y=alt.Y(\"value:Q\", title=\"Ecological Footprints\"),\n",
        "    color=alt.condition(click, 'Region:N', alt.value('lightgrey')),\n",
        "    tooltip=[\"Country\", \"Region\", \"Income Group\", alt.Tooltip(\"value:Q\", title=\"Selected Footprint\")]\n",
        "    ).transform_fold(\n",
        "    fold=['Total Ecological Footprint (Consumption)', 'Built up land_c', 'Carbon Footprint_c', \n",
        "    'Cropland Footprint_c','Fish Footprint_c', 'Forest Product Footprint_c', 'Grazing Footprint_c'],\n",
        "    as_=[\"footprints\", \"value\"]\n",
        "    ).transform_filter(\n",
        "    y_selection_scatter\n",
        "    ).add_selection(\n",
        "    y_selection_scatter\n",
        "    ).add_selection(\n",
        "    click).interactive()\n",
        "    \n",
        "# Create a trend line for each group\n",
        "trend_line = alt.Chart(data_with_mpi).mark_line().encode(\n",
        "    x=alt.X(\"Country_MPI:Q\", title=\"MPI Index\"),\n",
        "    y=alt.Y(\"value:Q\", title=\"Ecological Footprints\"),\n",
        "    color='Region:N'\n",
        "    ).transform_fold(\n",
        "    fold=['Total Ecological Footprint (Consumption)', 'Built up land_c', 'Carbon Footprint_c', \n",
        "    'Cropland Footprint_c','Fish Footprint_c', 'Forest Product Footprint_c', 'Grazing Footprint_c'],\n",
        "    as_=[\"footprints\", \"value\"]\n",
        "    ).transform_filter(\n",
        "    y_selection_line\n",
        "    ).transform_regression(\n",
        "    \"Country_MPI\", \"value\", groupby=[\"Region\"]\n",
        "    ).transform_filter(\n",
        "    click\n",
        "    ).add_selection(\n",
        "    y_selection_line\n",
        "    ).interactive()\n",
        "\n",
        "# aggregate the scatter plot on line graph\n",
        "aggregation = scatter_plot + trend_line\n",
        "aggregation.properties(\n",
        "    title=\"Ecological Footprints & MPI\",\n",
        "    width=600,\n",
        "    height=400\n",
        "    ).interactive()\n",
        "\n",
        "# Create a bar chart with details on different types of footprints\n",
        "bars = alt.Chart(data_with_mpi).mark_bar().encode(\n",
        "    x=alt.X(\"value:Q\", title=\"Ecological Footprints\"),\n",
        "    y=alt.Y(\"footprints:N\", title=\"Footprints Type\"),\n",
        "    color=alt.condition(click, alt.Color('footprints:N'), alt.value('lightgrey'))\n",
        "    ).transform_fold(fold=[ 'Built up land_c', 'Carbon Footprint_c', 'Cropland Footprint_c','Fish Footprint_c', \n",
        "                    'Forest Product Footprint_c', 'Grazing Footprint_c'], as_=[\"footprints\", \"value\"]\n",
        "    ).transform_filter(click)\n",
        "\n",
        "# Concat all graphs and link them with 'click'    \n",
        "graph2 = alt.vconcat(aggregation, bars).resolve_scale(\n",
        "    color='independent'\n",
        "    ).configure_view(\n",
        "    stroke=None)\n",
        "    \n",
        "graph2\n",
        "\n",
        "graph2.save('graph2.json')"
      ]
    }
  ],
  "metadata": {
    "colab": {
      "provenance": []
    },
    "kernelspec": {
      "display_name": "Python 3",
      "name": "python3"
    },
    "language_info": {
      "codemirror_mode": {
        "name": "ipython",
        "version": 3
      },
      "file_extension": ".py",
      "mimetype": "text/x-python",
      "name": "python",
      "nbconvert_exporter": "python",
      "pygments_lexer": "ipython3",
      "version": "3.9.12"
    }
  },
  "nbformat": 4,
  "nbformat_minor": 0
}
